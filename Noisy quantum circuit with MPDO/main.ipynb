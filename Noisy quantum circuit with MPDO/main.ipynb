{
 "cells": [
  {
   "cell_type": "code",
   "execution_count": 1,
   "outputs": [],
   "source": [
    "import tensornetwork as tn\n",
    "import numpy as np\n",
    "import torch as tc\n",
    "from tensornetwork.visualization.graphviz import to_graphviz\n",
    "tn.set_default_backend(\"pytorch\")\n",
    "state =  tn.Node(tc.tensor([1. + 0.j, 0. + 0.j], dtype=tc.complex128))    # Rank-1 tensor"
   ],
   "metadata": {
    "collapsed": false,
    "pycharm": {
     "name": "#%%\n"
    }
   }
  },
  {
   "cell_type": "code",
   "execution_count": 2,
   "outputs": [],
   "source": [
    "qubit = state[0]    # which represents an edge of tensor"
   ],
   "metadata": {
    "collapsed": false,
    "pycharm": {
     "name": "#%%\n"
    }
   }
  },
  {
   "cell_type": "code",
   "execution_count": 3,
   "outputs": [],
   "source": [
    "# This node represents the Hardmard gate we wish to perform\n",
    "hardmard = tn.Node(tc.tensor([[1, 1], [1, -1]], dtype=tc.complex128) / np.sqrt(2))   # Rank-2 tensor\n",
    "tn.connect(qubit, hardmard[0])    # Connect the qubit to the gate\n",
    "# The 'output edge' of the operation represents the qubit after applying the quantum operation\n",
    "qubit = hardmard[1]\n",
    "# Now, contract the edge which connect rank-1 tensor qubit and rank-2 tensor hardmard\n",
    "state = state @ hardmard"
   ],
   "metadata": {
    "collapsed": false,
    "pycharm": {
     "name": "#%%\n"
    }
   }
  },
  {
   "cell_type": "code",
   "execution_count": 4,
   "outputs": [
    {
     "name": "stdout",
     "output_type": "stream",
     "text": [
      "tensor([0.7071+0.j, 0.7071+0.j], dtype=torch.complex128)\n"
     ]
    }
   ],
   "source": [
    "print(state.tensor)"
   ],
   "metadata": {
    "collapsed": false,
    "pycharm": {
     "name": "#%%\n"
    }
   }
  },
  {
   "cell_type": "code",
   "execution_count": 5,
   "outputs": [
    {
     "name": "stdout",
     "output_type": "stream",
     "text": [
      "tensor([[1.+0.j],\n",
      "        [0.+0.j],\n",
      "        [0.+0.j],\n",
      "        [0.+0.j]], dtype=torch.complex128)\n"
     ]
    }
   ],
   "source": [
    "# As for multi-qubit gates, we can use the same approach, we create an initial state |00> and evolve it into |00> + |11>\n",
    "def apply_gate(qubit, gate, operating_qubits):\n",
    "    # form an array into Node\n",
    "    _gate = tn.Node(gate)\n",
    "    for i, bit in enumerate(operating_qubits):\n",
    "        tn.connect(qubit[bit], _gate[i])\n",
    "        qubit[bit] = _gate[i + len(operating_qubits)]\n",
    "\n",
    "# Numpy arrays of the operators\n",
    "H = tc.tensor([[1, 1], [1, -1]], dtype=tc.complex128) / np.sqrt(2)\n",
    "CNOT = tc.zeros((2, 2, 2, 2), dtype=tc.complex128)    # rank-4 tensor\n",
    "# Rank-4 tensor CNOT is constructed by its truth table\n",
    "CNOT[0, 0, 0, 0] = 1    #\n",
    "CNOT[0, 1, 0, 1] = 1\n",
    "CNOT[1, 0, 1, 1] = 1\n",
    "CNOT[1, 1, 1, 0] = 1\n",
    "all_nodes = []\n",
    "\n",
    "# NodeCollection allows us to keep track of all the nodes in the network\n",
    "with tn.NodeCollection(all_nodes):\n",
    "    state_nodes = [\n",
    "        tn.Node(np.array([1. + 0.j, 0. + 0.j], )) for _ in range(2)\n",
    "    ]\n",
    "    # which generated a list of two rank-1 tensors representing the initial state |00>\n",
    "    qubits = [node[0] for node in state_nodes]  # every is a edge of tensor\n",
    "    # Apply the Hadamard gate to the first qubit\n",
    "    # apply_gate(qubits, H, [0])\n",
    "    # Apply the CNOT gate to the first and second qubits\n",
    "    apply_gate(qubits, CNOT, [0, 1])\n",
    "\n",
    "# print(state_nodes)\n",
    "# Contract all the nodes in the network\n",
    "result = tn.contractors.optimal(\n",
    "    all_nodes, output_edge_order=qubits\n",
    ")\n",
    "print(tc.reshape(result.tensor, (4, 1)))"
   ],
   "metadata": {
    "collapsed": false,
    "pycharm": {
     "name": "#%%\n"
    }
   }
  },
  {
   "cell_type": "code",
   "execution_count": 6,
   "outputs": [],
   "source": [
    "# what if i want to generalize the codes above to a 3-qubit system? show me the codes"
   ],
   "metadata": {
    "collapsed": false,
    "pycharm": {
     "name": "#%%\n"
    }
   }
  },
  {
   "cell_type": "code",
   "execution_count": 7,
   "outputs": [],
   "source": [
    "def block(*dimensions):\n",
    "    \"\"\"\n",
    "    Construct a new matrix for the MPS with random numbers from 0 to 1\n",
    "    :param dimensions:\n",
    "    :return:\n",
    "    \"\"\"\n",
    "    size = tuple([x for x in dimensions])\n",
    "    return np.random.random_sample(size=size)\n",
    "\n",
    "def create_MPS(rank, dimension, bond_dimension):\n",
    "    \"\"\"\n",
    "    build MPS tensor\n",
    "    :param rank: the rank of MPS\n",
    "    :param dimension: the dimension of each site, which exactly is physical dimension\n",
    "    :param bond_dimension: the dimension of bond\n",
    "    :return:\n",
    "    \"\"\"\n",
    "    mps = [\n",
    "        tn.Node(block(dimension, bond_dimension), name='site_0')\n",
    "    ] + [\n",
    "        tn.Node(block(bond_dimension, dimension, bond_dimension), name='site_{}'.format(ii+1)) for ii in range(rank - 2)\n",
    "    ] + [\n",
    "        tn.Node(block(bond_dimension, dimension), name='site_final')\n",
    "    ]\n",
    "    # create edges to build mps\n",
    "    connected_edges = []\n",
    "    conn = mps[0][1] ^ mps[1][0]\n",
    "    connected_edges.append(conn)\n",
    "    for k in range(1, rank - 1):\n",
    "        conn = mps[k][2] ^ mps[k + 1][0]\n",
    "        connected_edges.append(conn)\n",
    "    return mps, connected_edges"
   ],
   "metadata": {
    "collapsed": false,
    "pycharm": {
     "name": "#%%\n"
    }
   }
  },
  {
   "cell_type": "code",
   "execution_count": 8,
   "outputs": [],
   "source": [
    "mps, connect_edges = create_MPS(3, 2, 2)\n",
    "# tn.to_graphviz(mps)"
   ],
   "metadata": {
    "collapsed": false,
    "pycharm": {
     "name": "#%%\n"
    }
   }
  },
  {
   "cell_type": "markdown",
   "source": [
    "# Above from tutorial"
   ],
   "metadata": {
    "collapsed": false,
    "pycharm": {
     "name": "#%% md\n"
    }
   }
  },
  {
   "cell_type": "code",
   "execution_count": 9,
   "outputs": [],
   "source": [
    "def ket0():\n",
    "    return tc.tensor([1. + 0.j, 0. + 0.j], dtype=tc.complex128)\n",
    "def create_init_mpo(number: int, phys_dimension=None, bond_dimension=None, conj_conn_dim=None) -> list:\n",
    "    \"\"\"\n",
    "    create initial mpo\n",
    "    :param number: the number of qubits;\n",
    "    :param phys_dimension: the dimension of each site, which exactly is physical dimension;\n",
    "    :param bond_dimension: the dimension of bond;\n",
    "    :param conj_conn_dim: link dimension between two mpo;\n",
    "    :return:\n",
    "    \"\"\"\n",
    "    _mps = [\n",
    "        tn.Node(ket0(), name='qubit_{}'.format(ii), axis_names=['physics']) for ii in range(number)\n",
    "    ]\n",
    "    # Initial nodes has no edges need to be connected, which exactly cannot be saying as a MPO.\n",
    "    return _mps"
   ],
   "metadata": {
    "collapsed": false,
    "pycharm": {
     "name": "#%%\n"
    }
   }
  },
  {
   "cell_type": "code",
   "execution_count": 10,
   "outputs": [
    {
     "data": {
      "image/svg+xml": "<?xml version=\"1.0\" encoding=\"UTF-8\" standalone=\"no\"?>\n<!DOCTYPE svg PUBLIC \"-//W3C//DTD SVG 1.1//EN\"\n \"http://www.w3.org/Graphics/SVG/1.1/DTD/svg11.dtd\">\n<!-- Generated by graphviz version 8.0.1 (20230327.1645)\n -->\n<!-- Title: G Pages: 1 -->\n<svg width=\"304pt\" height=\"225pt\"\n viewBox=\"0.00 0.00 303.91 224.64\" xmlns=\"http://www.w3.org/2000/svg\" xmlns:xlink=\"http://www.w3.org/1999/xlink\">\n<g id=\"graph0\" class=\"graph\" transform=\"scale(1 1) rotate(0) translate(4 220.64)\">\n<title>G</title>\n<polygon fill=\"white\" stroke=\"none\" points=\"-4,4 -4,-220.64 299.91,-220.64 299.91,4 -4,4\"/>\n<!-- 11137127856 -->\n<g id=\"node1\" class=\"node\">\n<title>11137127856</title>\n<ellipse fill=\"none\" stroke=\"black\" cx=\"37.7\" cy=\"-78.64\" rx=\"37.89\" ry=\"18\"/>\n<text text-anchor=\"middle\" x=\"37.7\" y=\"-74.94\" font-family=\"Times,serif\" font-size=\"14.00\">qubit_0</text>\n</g>\n<!-- 11137127040 -->\n<g id=\"node2\" class=\"node\">\n<title>11137127040</title>\n<ellipse fill=\"none\" stroke=\"black\" cx=\"137.7\" cy=\"-128.64\" rx=\"37.89\" ry=\"18\"/>\n<text text-anchor=\"middle\" x=\"137.7\" y=\"-124.94\" font-family=\"Times,serif\" font-size=\"14.00\">qubit_1</text>\n</g>\n<!-- 11137127232 -->\n<g id=\"node3\" class=\"node\">\n<title>11137127232</title>\n<ellipse fill=\"none\" stroke=\"black\" cx=\"197.7\" cy=\"-28.64\" rx=\"37.89\" ry=\"18\"/>\n<text text-anchor=\"middle\" x=\"197.7\" y=\"-24.94\" font-family=\"Times,serif\" font-size=\"14.00\">qubit_2</text>\n</g>\n<!-- 11137129392 -->\n<g id=\"node4\" class=\"node\">\n<title>11137129392</title>\n<ellipse fill=\"none\" stroke=\"black\" cx=\"197.7\" cy=\"-188.64\" rx=\"37.89\" ry=\"18\"/>\n<text text-anchor=\"middle\" x=\"197.7\" y=\"-184.94\" font-family=\"Times,serif\" font-size=\"14.00\">qubit_3</text>\n</g>\n<!-- 11137127808 -->\n<g id=\"node5\" class=\"node\">\n<title>11137127808</title>\n<ellipse fill=\"none\" stroke=\"black\" cx=\"37.7\" cy=\"-198.64\" rx=\"37.89\" ry=\"18\"/>\n<text text-anchor=\"middle\" x=\"37.7\" y=\"-194.94\" font-family=\"Times,serif\" font-size=\"14.00\">qubit_4</text>\n</g>\n<!-- 11137127856_0 -->\n<!-- 11137127856_0&#45;&#45;11137127856 -->\n<g id=\"edge1\" class=\"edge\">\n<title>11137127856_0&#45;&#45;11137127856</title>\n<path fill=\"none\" stroke=\"black\" d=\"M82.39,-71.96C79.7,-72.36 76.94,-72.78 74.17,-73.19\"/>\n<text text-anchor=\"middle\" x=\"57.78\" y=\"-61.38\" font-family=\"Times,serif\" font-size=\"14.00\">physics</text>\n</g>\n<!-- 11137127040_0 -->\n<!-- 11137127040_0&#45;&#45;11137127040 -->\n<g id=\"edge2\" class=\"edge\">\n<title>11137127040_0&#45;&#45;11137127040</title>\n<path fill=\"none\" stroke=\"black\" d=\"M182.39,-121.96C179.7,-122.36 176.94,-122.78 174.17,-123.19\"/>\n<text text-anchor=\"middle\" x=\"168.03\" y=\"-111.38\" font-family=\"Times,serif\" font-size=\"14.00\">physics</text>\n</g>\n<!-- 11137127232_0 -->\n<!-- 11137127232_0&#45;&#45;11137127232 -->\n<g id=\"edge3\" class=\"edge\">\n<title>11137127232_0&#45;&#45;11137127232</title>\n<path fill=\"none\" stroke=\"black\" d=\"M242.39,-21.96C239.7,-22.36 236.94,-22.78 234.17,-23.19\"/>\n<text text-anchor=\"middle\" x=\"228.03\" y=\"-11.38\" font-family=\"Times,serif\" font-size=\"14.00\">physics</text>\n</g>\n<!-- 11137129392_0 -->\n<!-- 11137129392_0&#45;&#45;11137129392 -->\n<g id=\"edge4\" class=\"edge\">\n<title>11137129392_0&#45;&#45;11137129392</title>\n<path fill=\"none\" stroke=\"black\" d=\"M242.39,-181.96C239.7,-182.36 236.94,-182.78 234.17,-183.19\"/>\n<text text-anchor=\"middle\" x=\"228.03\" y=\"-171.38\" font-family=\"Times,serif\" font-size=\"14.00\">physics</text>\n</g>\n<!-- 11137127808_0 -->\n<!-- 11137127808_0&#45;&#45;11137127808 -->\n<g id=\"edge5\" class=\"edge\">\n<title>11137127808_0&#45;&#45;11137127808</title>\n<path fill=\"none\" stroke=\"black\" d=\"M82.39,-191.96C79.7,-192.36 76.94,-192.78 74.17,-193.19\"/>\n<text text-anchor=\"middle\" x=\"57.78\" y=\"-181.38\" font-family=\"Times,serif\" font-size=\"14.00\">physics</text>\n</g>\n</g>\n</svg>\n",
      "text/plain": "<graphviz.graphs.Graph at 0x297d3bf40>"
     },
     "execution_count": 10,
     "metadata": {},
     "output_type": "execute_result"
    }
   ],
   "source": [
    "init_mpo = create_init_mpo(5)\n",
    "to_graphviz(init_mpo)"
   ],
   "metadata": {
    "collapsed": false,
    "pycharm": {
     "name": "#%%\n"
    }
   }
  },
  {
   "cell_type": "code",
   "execution_count": 11,
   "outputs": [],
   "source": [
    "class TensorGate(object):\n",
    "    def __init__(self):\n",
    "        self.name = None\n",
    "        self.tensor = None\n",
    "        self.rank = None\n",
    "        self.dimension = None\n",
    "        self.single = None\n",
    "        self.axis_name = None\n",
    "        self.dtype = tc.complex128\n",
    "    def cnot(self):\n",
    "        self.name = 'CNOT'\n",
    "        self.tensor = tc.zeros((2, 2, 2, 2), dtype=self.dtype)  # rank-4 tensor\n",
    "        # Rank-4 tensor CNOT is constructed by its truth table\n",
    "        self.tensor[0, 0, 0, 0] = 1  #\n",
    "        self.tensor[0, 1, 0, 1] = 1\n",
    "        self.tensor[1, 0, 1, 1] = 1\n",
    "        self.tensor[1, 1, 1, 0] = 1\n",
    "        self.rank = 4\n",
    "        self.dimension = 2\n",
    "        self.single = False\n",
    "        self.axis_name = ['inner_0', 'inner_1', 'physics_0', 'physics_1']\n",
    "        return self\n",
    "    def x(self):\n",
    "        self.name = 'X'\n",
    "        self.tensor = tc.tensor([[0, 1], [1, 0]], dtype=self.dtype)\n",
    "        self.rank = 2\n",
    "        self.dimension = 2\n",
    "        self.single = True\n",
    "        self.axis_name = ['inner', 'physics']\n",
    "        return self\n",
    "    def y(self):\n",
    "        self.name = 'Y'\n",
    "        self.tensor = tc.tensor([[0, -1j], [1j, 0]], dtype=self.dtype)\n",
    "        self.rank = 2\n",
    "        self.dimension = 2\n",
    "        self.single = True\n",
    "        self.axis_name = ['inner', 'physics']\n",
    "        return self\n",
    "    def z(self):\n",
    "        self.name = 'Z'\n",
    "        self.tensor = tc.tensor([[1, 0], [0, -1]], dtype=self.dtype)\n",
    "        self.rank = 2\n",
    "        self.dimension = 2\n",
    "        self.single = True\n",
    "        self.axis_name = ['inner', 'physics']\n",
    "        return self\n",
    "    def s(self):\n",
    "        self.name = 'S'\n",
    "        self.tensor = tc.tensor([[1, 0], [0, 1j]], dtype=self.dtype)\n",
    "        self.rank = 2\n",
    "        self.dimension = 2\n",
    "        self.single = True\n",
    "        self.axis_name = ['inner', 'physics']\n",
    "        return self\n",
    "    def t(self):\n",
    "        self.name = 'T'\n",
    "        self.tensor = tc.tensor([[1, 0], [0, (1 + 1j) / np.sqrt(2)]], dtype=self.dtype)\n",
    "        self.rank = 2\n",
    "        self.dimension = 2\n",
    "        self.single = True\n",
    "        self.axis_name = ['inner', 'physics']\n",
    "        return self\n",
    "    def h(self):\n",
    "        self.name = 'H'\n",
    "        self.tensor = tc.tensor([[1, 1], [1, -1]], dtype=self.dtype) / np.sqrt(2)\n",
    "        self.rank = 2\n",
    "        self.dimension = 2\n",
    "        self.single = True\n",
    "        self.axis_name = ['inner', 'physics']\n",
    "        return self\n",
    "    def rx(self, theta):\n",
    "        self.name = 'RX'\n",
    "        self.tensor = tc.tensor([[np.cos(theta / 2), -1j * np.sin(theta / 2)],\n",
    "                                 [-1j * np.sin(theta / 2), np.cos(theta / 2)]], dtype=self.dtype)\n",
    "        self.rank = 2\n",
    "        self.dimension = 2\n",
    "        self.single = True\n",
    "        self.axis_name = ['inner', 'physics']\n",
    "        return self\n",
    "    def ry(self, theta):\n",
    "        self.name = 'RY'\n",
    "        self.tensor = tc.tensor([[np.cos(theta / 2), -np.sin(theta / 2)],\n",
    "                                 [np.sin(theta / 2), np.cos(theta / 2)]], dtype=self.dtype)\n",
    "        self.rank = 2\n",
    "        self.dimension = 2\n",
    "        self.single = True\n",
    "        self.axis_name = ['inner', 'physics']\n",
    "        return self\n",
    "    def rz(self, theta):\n",
    "        self.name = 'RZ'\n",
    "        self.tensor = tc.tensor([[np.exp(-1j * theta / 2), 0],\n",
    "                                 [0, np.exp(1j * theta / 2)]], dtype=self.dtype)\n",
    "        self.rank = 2\n",
    "        self.dimension = 2\n",
    "        self.single = True\n",
    "        self.axis_name = ['inner', 'physics']\n",
    "        return self\n",
    "    def u1(self, theta):\n",
    "        self.name = 'U1'\n",
    "        self.tensor = tc.tensor([[1, 0], [0, np.exp(1j * theta)]], dtype=self.dtype)\n",
    "        self.rank = 2\n",
    "        self.dimension = 2\n",
    "        self.single = True\n",
    "        self.axis_name = ['inner', 'physics']\n",
    "        return self\n",
    "    def u2(self, phi, lam):\n",
    "        self.name = 'U2'\n",
    "        self.tensor = tc.tensor([[1, -np.exp(1j * lam)],\n",
    "                                 [np.exp(1j * phi), np.exp(1j * (phi + lam))]]) / np.sqrt(2)\n",
    "        self.rank = 2\n",
    "        self.dimension = 2\n",
    "        self.single = True\n",
    "        self.axis_name = ['inner', 'physics']\n",
    "        return self\n",
    "    def u3(self, theta, phi, lam):\n",
    "        self.name = 'U3'\n",
    "        self.tensor = tc.tensor([[np.cos(theta / 2), -np.exp(1j * lam) * np.sin(theta / 2)],\n",
    "                                 [np.exp(1j * phi) * np.sin(theta / 2),\n",
    "                                  np.exp(1j * (phi + lam)) * np.cos(theta / 2)]])\n",
    "        self.rank = 2\n",
    "        self.dimension = 2\n",
    "        self.single = True\n",
    "        self.axis_name = ['inner', 'physics']\n",
    "        return self\n",
    "    def u(self, theta, phi, lam, gamma):\n",
    "        self.name = 'U'\n",
    "        self.tensor = tc.tensor([[np.cos(theta / 2), -np.exp(1j * (lam + gamma)) * np.sin(theta / 2)],\n",
    "                                 [np.exp(1j * (phi + gamma)) * np.sin(theta / 2),\n",
    "                                  np.exp(1j * (phi + lam + gamma)) * np.cos(theta / 2)]])\n",
    "        self.rank = 2\n",
    "        self.dimension = 2\n",
    "        self.single = True\n",
    "        self.axis_name = ['inner', 'physics']\n",
    "        return self\n",
    "    def cz(self):\n",
    "        self.name = 'CZ'\n",
    "        self.tensor = tc.tensor([[1, 0, 0, 0],\n",
    "                                 [0, 1, 0, 0],\n",
    "                                 [0, 0, 1, 0],\n",
    "                                 [0, 0, 0, -1]], dtype=self.dtype)\n",
    "        self.rank = 4\n",
    "        self.dimension = 2\n",
    "        self.single = False\n",
    "        self.axis_name = ['inner_0', 'inner_1', 'physics_0', 'physics_1']\n",
    "        return self\n",
    "    def swap(self):\n",
    "        self.name = 'SWAP'\n",
    "        self.tensor = tc.tensor([[1, 0, 0, 0],\n",
    "                                 [0, 0, 1, 0],\n",
    "                                 [0, 1, 0, 0],\n",
    "                                 [0, 0, 0, 1]], dtype=self.dtype)\n",
    "        self.tensor = tc.reshape(self.tensor, (2, 2, 2, 2))\n",
    "        self.rank = 4\n",
    "        self.dimension = 2\n",
    "        self.single = False\n",
    "        self.axis_name = ['inner_0', 'inner_1', 'physics_0', 'physics_1']\n",
    "        return self"
   ],
   "metadata": {
    "collapsed": false,
    "pycharm": {
     "name": "#%%\n"
    }
   }
  },
  {
   "cell_type": "code",
   "execution_count": 12,
   "outputs": [
    {
     "ename": "ValueError",
     "evalue": "Axis name 'inner' not found for node 'H'",
     "output_type": "error",
     "traceback": [
      "\u001B[0;31m---------------------------------------------------------------------------\u001B[0m",
      "\u001B[0;31mValueError\u001B[0m                                Traceback (most recent call last)",
      "File \u001B[0;32m~/opt/anaconda3/envs/cwq/lib/python3.9/site-packages/tensornetwork/network_components.py:307\u001B[0m, in \u001B[0;36mAbstractNode.get_axis_number\u001B[0;34m(self, axis)\u001B[0m\n\u001B[1;32m    306\u001B[0m \u001B[38;5;28;01mtry\u001B[39;00m:\n\u001B[0;32m--> 307\u001B[0m   \u001B[38;5;28;01mreturn\u001B[39;00m \u001B[38;5;28;43mself\u001B[39;49m\u001B[38;5;241;43m.\u001B[39;49m\u001B[43maxis_names\u001B[49m\u001B[38;5;241;43m.\u001B[39;49m\u001B[43mindex\u001B[49m\u001B[43m(\u001B[49m\u001B[43maxis\u001B[49m\u001B[43m)\u001B[49m\n\u001B[1;32m    308\u001B[0m \u001B[38;5;28;01mexcept\u001B[39;00m \u001B[38;5;167;01mValueError\u001B[39;00m \u001B[38;5;28;01mas\u001B[39;00m err:\n",
      "\u001B[0;31mValueError\u001B[0m: 'inner' is not in list",
      "\nThe above exception was the direct cause of the following exception:\n",
      "\u001B[0;31mValueError\u001B[0m                                Traceback (most recent call last)",
      "Input \u001B[0;32mIn [12]\u001B[0m, in \u001B[0;36m<cell line: 92>\u001B[0;34m()\u001B[0m\n\u001B[1;32m     90\u001B[0m qubits \u001B[38;5;241m=\u001B[39m create_init_mpo(qnumber)\n\u001B[1;32m     91\u001B[0m \u001B[38;5;66;03m# Apply the Hadamard gate to the first qubit\u001B[39;00m\n\u001B[0;32m---> 92\u001B[0m \u001B[43madd_gate\u001B[49m\u001B[43m(\u001B[49m\u001B[43mqubits\u001B[49m\u001B[43m,\u001B[49m\u001B[43m \u001B[49m\u001B[43mGates\u001B[49m\u001B[38;5;241;43m.\u001B[39;49m\u001B[43mh\u001B[49m\u001B[43m(\u001B[49m\u001B[43m)\u001B[49m\u001B[43m,\u001B[49m\u001B[43m \u001B[49m\u001B[43m[\u001B[49m\u001B[38;5;241;43m0\u001B[39;49m\u001B[43m]\u001B[49m\u001B[43m)\u001B[49m\n\u001B[1;32m     93\u001B[0m \u001B[38;5;66;03m# Apply the CNOT gate to the first and second qubits\u001B[39;00m\n\u001B[1;32m     94\u001B[0m \u001B[38;5;28;01mfor\u001B[39;00m i \u001B[38;5;129;01min\u001B[39;00m \u001B[38;5;28mrange\u001B[39m(qnumber \u001B[38;5;241m-\u001B[39m \u001B[38;5;241m1\u001B[39m):\n",
      "Input \u001B[0;32mIn [12]\u001B[0m, in \u001B[0;36madd_gate\u001B[0;34m(_qubit, gate, operating_qubits)\u001B[0m\n\u001B[1;32m     78\u001B[0m _gate_list \u001B[38;5;241m=\u001B[39m [tn\u001B[38;5;241m.\u001B[39mNode(gate\u001B[38;5;241m.\u001B[39mtensor, name\u001B[38;5;241m=\u001B[39mgate\u001B[38;5;241m.\u001B[39mname) \u001B[38;5;28;01mfor\u001B[39;00m _ \u001B[38;5;129;01min\u001B[39;00m \u001B[38;5;28mrange\u001B[39m(\u001B[38;5;28mlen\u001B[39m(operating_qubits))]\n\u001B[1;32m     79\u001B[0m \u001B[38;5;28;01mfor\u001B[39;00m i, bit \u001B[38;5;129;01min\u001B[39;00m \u001B[38;5;28menumerate\u001B[39m(operating_qubits):\n\u001B[0;32m---> 80\u001B[0m     tn\u001B[38;5;241m.\u001B[39mconnect(_qubit[bit][\u001B[38;5;124m'\u001B[39m\u001B[38;5;124mphysics\u001B[39m\u001B[38;5;124m'\u001B[39m], \u001B[43m_gate_list\u001B[49m\u001B[43m[\u001B[49m\u001B[43mi\u001B[49m\u001B[43m]\u001B[49m\u001B[43m[\u001B[49m\u001B[38;5;124;43m'\u001B[39;49m\u001B[38;5;124;43minner\u001B[39;49m\u001B[38;5;124;43m'\u001B[39;49m\u001B[43m]\u001B[49m)\n\u001B[1;32m     81\u001B[0m     \u001B[38;5;66;03m# contract the connected edge and inherit the name of the pre-qubit\u001B[39;00m\n\u001B[1;32m     82\u001B[0m     _qubit[bit] \u001B[38;5;241m=\u001B[39m _qubit[bit] \u001B[38;5;241m@\u001B[39m _gate_list[i]\n",
      "File \u001B[0;32m~/opt/anaconda3/envs/cwq/lib/python3.9/site-packages/tensornetwork/network_components.py:374\u001B[0m, in \u001B[0;36mAbstractNode.__getitem__\u001B[0;34m(self, key)\u001B[0m\n\u001B[1;32m    372\u001B[0m \u001B[38;5;28;01mif\u001B[39;00m \u001B[38;5;28misinstance\u001B[39m(key, \u001B[38;5;28mslice\u001B[39m):\n\u001B[1;32m    373\u001B[0m   \u001B[38;5;28;01mreturn\u001B[39;00m \u001B[38;5;28mself\u001B[39m\u001B[38;5;241m.\u001B[39medges[key]\n\u001B[0;32m--> 374\u001B[0m \u001B[38;5;28;01mreturn\u001B[39;00m \u001B[38;5;28;43mself\u001B[39;49m\u001B[38;5;241;43m.\u001B[39;49m\u001B[43mget_edge\u001B[49m\u001B[43m(\u001B[49m\u001B[43mkey\u001B[49m\u001B[43m)\u001B[49m\n",
      "File \u001B[0;32m~/opt/anaconda3/envs/cwq/lib/python3.9/site-packages/tensornetwork/network_components.py:330\u001B[0m, in \u001B[0;36mAbstractNode.get_edge\u001B[0;34m(self, axis)\u001B[0m\n\u001B[1;32m    329\u001B[0m \u001B[38;5;28;01mdef\u001B[39;00m \u001B[38;5;21mget_edge\u001B[39m(\u001B[38;5;28mself\u001B[39m, axis: Union[\u001B[38;5;28mint\u001B[39m, Text]) \u001B[38;5;241m-\u001B[39m\u001B[38;5;241m>\u001B[39m \u001B[38;5;124m\"\u001B[39m\u001B[38;5;124mEdge\u001B[39m\u001B[38;5;124m\"\u001B[39m:\n\u001B[0;32m--> 330\u001B[0m   axis_num \u001B[38;5;241m=\u001B[39m \u001B[38;5;28;43mself\u001B[39;49m\u001B[38;5;241;43m.\u001B[39;49m\u001B[43mget_axis_number\u001B[49m\u001B[43m(\u001B[49m\u001B[43maxis\u001B[49m\u001B[43m)\u001B[49m\n\u001B[1;32m    331\u001B[0m   \u001B[38;5;28;01mreturn\u001B[39;00m \u001B[38;5;28mself\u001B[39m\u001B[38;5;241m.\u001B[39medges[axis_num]\n",
      "File \u001B[0;32m~/opt/anaconda3/envs/cwq/lib/python3.9/site-packages/tensornetwork/network_components.py:309\u001B[0m, in \u001B[0;36mAbstractNode.get_axis_number\u001B[0;34m(self, axis)\u001B[0m\n\u001B[1;32m    307\u001B[0m   \u001B[38;5;28;01mreturn\u001B[39;00m \u001B[38;5;28mself\u001B[39m\u001B[38;5;241m.\u001B[39maxis_names\u001B[38;5;241m.\u001B[39mindex(axis)\n\u001B[1;32m    308\u001B[0m \u001B[38;5;28;01mexcept\u001B[39;00m \u001B[38;5;167;01mValueError\u001B[39;00m \u001B[38;5;28;01mas\u001B[39;00m err:\n\u001B[0;32m--> 309\u001B[0m   \u001B[38;5;28;01mraise\u001B[39;00m \u001B[38;5;167;01mValueError\u001B[39;00m(\u001B[38;5;124m\"\u001B[39m\u001B[38;5;124mAxis name \u001B[39m\u001B[38;5;124m'\u001B[39m\u001B[38;5;132;01m{}\u001B[39;00m\u001B[38;5;124m'\u001B[39m\u001B[38;5;124m not found for node \u001B[39m\u001B[38;5;124m'\u001B[39m\u001B[38;5;132;01m{}\u001B[39;00m\u001B[38;5;124m'\u001B[39m\u001B[38;5;124m\"\u001B[39m\u001B[38;5;241m.\u001B[39mformat(\n\u001B[1;32m    310\u001B[0m       axis, \u001B[38;5;28mself\u001B[39m)) \u001B[38;5;28;01mfrom\u001B[39;00m \u001B[38;5;21;01merr\u001B[39;00m\n",
      "\u001B[0;31mValueError\u001B[0m: Axis name 'inner' not found for node 'H'"
     ]
    }
   ],
   "source": [
    "def is_nested(lst: list):\n",
    "    return any(isinstance(i, list) for i in lst)\n",
    "\n",
    "def qr_left2right(_qubits: list):\n",
    "    # left-most rank-2 node\n",
    "    _q, _r = tn.split_node_qr(_qubits[0],\n",
    "                              left_edges=[_qubits[0][0]],\n",
    "                              right_edges=[_qubits[0][1]],\n",
    "                              left_name=_qubits[0].name)\n",
    "    _r = _r @ _qubits[1]\n",
    "    _r.name = 'qubit_' + str(0 + 1)\n",
    "    _qubits[0], _qubits[1] = _q, _r\n",
    "    # left to right rank-3 node\n",
    "    for ii in range(1, len(_qubits)- 1):\n",
    "        _q, _r = tn.split_node_qr(_qubits[ii], left_edges=[_qubits[ii][0], _qubits[ii][1]], right_edges=[_qubits[ii][2]], left_name=_qubits[ii].name)\n",
    "        _r = _r @ _qubits[ii+1]\n",
    "        _r.name = 'qubit_' + str(ii+1)\n",
    "        _qubits[ii], _qubits[ii+1] = _q, _r\n",
    "\n",
    "def get_spilt(_node, operating_qubits, method: str = 'svd'):\n",
    "    \"\"\"\n",
    "    Split node while a double-qubit gate was applied\n",
    "    :param _node: node to be split\n",
    "    :param operating_qubits: operating qubits\n",
    "    :param method: method to split\n",
    "    :return: left node, right node, middle node\n",
    "    \"\"\"\n",
    "    if method == 'svd':\n",
    "        if _node.get_rank() == 2:\n",
    "            _left, _right, _ = tn.split_node(_node,\n",
    "                          left_edges=[_node[0]],\n",
    "                          right_edges=[_node[1]],\n",
    "                          left_name='qubit_' + str(operating_qubits[0]),\n",
    "                          right_name='qubit_' + str(operating_qubits[1]),\n",
    "                                             edge_name='bond')\n",
    "            return _left, _right, _\n",
    "        elif _node.get_rank() == 3:\n",
    "            _left, _right, _ = tn.split_node(_node,\n",
    "                                             left_edges=[_node[0], _node[1]],\n",
    "                                                right_edges=[_node[2]],\n",
    "                                                left_name='qubit_' + str(operating_qubits[0]),\n",
    "                                                right_name='qubit_' + str(operating_qubits[1]),\n",
    "                                             edge_name='bond')\n",
    "            return _left, _right, _\n",
    "def add_gate(_qubit: list, gate: TensorGate, operating_qubits: list):\n",
    "    \"\"\"\n",
    "    Add quantum Gate to tensor network.\n",
    "    :param _qubit: edges which represent qubits;\n",
    "    :param gate: gate to be added;\n",
    "    :param operating_qubits: operating qubits;\n",
    "    :return: added gate tensor network.\n",
    "    \"\"\"\n",
    "    if isinstance(_qubit, list) is False:\n",
    "        raise TypeError('Qubit must be a list.')\n",
    "    if isinstance(gate, TensorGate) is False:\n",
    "        raise TypeError('Gate must be a TensorGate.')\n",
    "    if isinstance(operating_qubits, list) is False:\n",
    "        raise TypeError('Operating qubits must be a list.')\n",
    "\n",
    "    single = gate.single\n",
    "    if single is False:\n",
    "        if is_nested(operating_qubits) is True:\n",
    "            raise TypeError('Series CNOT gates are not supported yet.')\n",
    "        else:\n",
    "            _gate = tn.Node(gate.tensor, name=gate.name)\n",
    "            _edges = []\n",
    "            for i, bit in enumerate(operating_qubits):\n",
    "                idx_plus = 0\n",
    "                if _qubit[bit].get_rank() > 1:\n",
    "                    idx_plus = 1\n",
    "                _edges.append(tn.connect(_qubit[bit][0 + idx_plus], _gate[i]))\n",
    "            for _edge in _edges:\n",
    "                _qubit[operating_qubits[0]] = tn.contract(_edge)\n",
    "            # spilt the node\n",
    "            _qubit[operating_qubits[0]], _qubit[operating_qubits[1]], _ \\\n",
    "                = get_spilt(_qubit[operating_qubits[0]], operating_qubits)\n",
    "    else:\n",
    "        _gate_list = [tn.Node(gate.tensor, name=gate.name) for _ in range(len(operating_qubits))]\n",
    "        for i, bit in enumerate(operating_qubits):\n",
    "            tn.connect(_qubit[bit]['physics'], _gate_list[i]['inner'])\n",
    "            # contract the connected edge and inherit the name of the pre-qubit\n",
    "            _qubit[bit] = _qubit[bit] @ _gate_list[i]\n",
    "            _qubit[bit].name = 'qubit_' + str(bit)\n",
    "\n",
    "all_nodes = []\n",
    "Gates = TensorGate()\n",
    "qnumber = 5\n",
    "\n",
    "# which generated a list of two rank-1 tensors representing the initial state |00>\n",
    "qubits = create_init_mpo(qnumber)\n",
    "# Apply the Hadamard gate to the first qubit\n",
    "add_gate(qubits, Gates.h(), [0])\n",
    "# Apply the CNOT gate to the first and second qubits\n",
    "for i in range(qnumber - 1):\n",
    "    add_gate(qubits, Gates.cnot(), [i, i+1])\n",
    "\n",
    "qr_left2right(qubits)\n",
    "print(qubits)\n",
    "\n",
    "# print(tc.reshape(qubits[0].tensor, (2**qnumber, 1)))\n",
    "# Contract all the nodes in the network\n",
    "# result = tn.contractors.optimal(\n",
    "#     all_nodes, output_edge_order=qubits\n",
    "# )\n",
    "# print(tc.reshape(result.tensor, (2**qnumber, 1)))"
   ],
   "metadata": {
    "collapsed": false,
    "pycharm": {
     "name": "#%%\n"
    }
   }
  },
  {
   "cell_type": "code",
   "execution_count": null,
   "outputs": [],
   "source": [
    "def svd_right2left(_qubits, chi: int = None):\n",
    "    if chi is None:\n",
    "        # A number who is big enough to keep all the information\n",
    "        chi = 2 ** len(_qubits)\n",
    "    # right-most rank-2 node\n",
    "    idx = len(_qubits) - 1\n",
    "    contracted_two_nodes = tn.contract_between(_qubits[idx - 1], _qubits[idx])\n",
    "    _left, _right, _ = tn.split_node(contracted_two_nodes,\n",
    "                                     left_edges=[contracted_two_nodes[0], contracted_two_nodes[1]],\n",
    "                                     right_edges=[contracted_two_nodes[2]],\n",
    "                                     left_name='qubit_' + str(idx - 1),\n",
    "                                     right_name='qubit_' + str(idx), max_singular_values=chi)\n",
    "    _qubits[idx - 1], _qubits[idx] = _left, _right\n",
    "    # right to left rank-3 node\n",
    "    for ii in range(len(_qubits) - 2, 1, -1):\n",
    "        contracted_two_nodes = tn.contract_between(_qubits[ii - 1], _qubits[ii])\n",
    "        _left, _right, _ = tn.split_node(contracted_two_nodes,\n",
    "                                         left_edges=[contracted_two_nodes[0], contracted_two_nodes[1]],\n",
    "                                         right_edges=[contracted_two_nodes[2], contracted_two_nodes[3]],\n",
    "                                         left_name='qubit_' + str(ii - 1),\n",
    "                                         right_name='qubit_' + str(ii), max_singular_values=chi)\n",
    "        _qubits[ii - 1], _qubits[ii] = _left, _right\n",
    "    # left-most rank-2 node\n",
    "    contracted_two_nodes = tn.contract_between(_qubits[0], _qubits[1])\n",
    "    _left, _right, _ = tn.split_node(contracted_two_nodes,\n",
    "                                     left_edges=[contracted_two_nodes[0]],\n",
    "                                     right_edges=[contracted_two_nodes[1], contracted_two_nodes[2]],\n",
    "                                     left_name='qubit_' + str(0),\n",
    "                                        right_name='qubit_' + str(1),\n",
    "                                        max_singular_values=chi)\n",
    "    _qubits[0], _qubits[1] = _left, _right"
   ],
   "metadata": {
    "collapsed": false,
    "pycharm": {
     "name": "#%%\n"
    }
   }
  },
  {
   "cell_type": "code",
   "execution_count": null,
   "outputs": [],
   "source": [
    "def contract_mps(_qubits):\n",
    "    op = _qubits[0]\n",
    "    for i in range(1, len(_qubits)):\n",
    "        op = tn.contract_between(op, _qubits[i])\n",
    "    return op\n",
    "a = create_init_mpo(4)\n",
    "b = tn.Node(Gates.cnot().tensor)\n",
    "d = tn.Node(Gates.cnot().tensor)\n",
    "e = tn.Node(Gates.cnot().tensor)\n",
    "add_gate(a, Gates.h(), [0])\n",
    "\n",
    "edge1 = a[0][0] ^ b[0]\n",
    "edge2 = a[1][0] ^ b[1]\n",
    "c = tn.contract(edge1)\n",
    "c = tn.contract(edge2)\n",
    "u, vh, _ = tn.split_node(c, left_edges=[c[0]], right_edges=[c[1]], left_name=a[0].name, right_name=a[1].name)\n",
    "a[0], a[1] = u, vh\n",
    "\n",
    "edge3 = a[1][1] ^ d[0]\n",
    "edge4 = a[2][0] ^ d[1]\n",
    "c = tn.contract(edge3)\n",
    "c = tn.contract(edge4)\n",
    "left, right, _ = tn.split_node(c, left_edges=[c[0], c[1]], right_edges=[c[2]], left_name=a[1].name, right_name=a[2].name)\n",
    "a[1], a[2] = left, right\n",
    "\n",
    "edge5 = a[2][1] ^ e[0]\n",
    "edge6 = a[3][0] ^ e[1]\n",
    "c = tn.contract(edge5)\n",
    "c = tn.contract(edge6)\n",
    "left, right, _ = tn.split_node(c, left_edges=[c[0], c[1]], right_edges=[c[2]], left_name=a[2].name, right_name=a[3].name)\n",
    "a[2], a[3] = left, right\n",
    "\n",
    "qr_left2right(a)\n",
    "\n",
    "svd_right2left(a, chi=None)\n",
    "print(a)\n",
    "f = contract_mps(a)"
   ],
   "metadata": {
    "collapsed": false,
    "pycharm": {
     "name": "#%%\n"
    }
   }
  },
  {
   "cell_type": "code",
   "execution_count": null,
   "outputs": [],
   "source": [
    "tc.reshape(f.tensor, (2**4, 1))"
   ],
   "metadata": {
    "collapsed": false,
    "pycharm": {
     "name": "#%%\n"
    }
   }
  },
  {
   "cell_type": "code",
   "execution_count": null,
   "outputs": [],
   "source": [
    "tensor_node = 1/np.sqrt(2) * tc.tensor([1. + 0.j, 1. + 0.j], dtype=tc.complex128)\n",
    "upper = tn.Node(tensor_node, name='upper')\n",
    "lower = tn.Node(tensor_node.T.conj(), name='lower')\n",
    "p = 11e-4\n",
    "error_diag = tc.diag(tc.tensor([np.sqrt(1 - 3*p /4), np.sqrt(p/4), np.sqrt(p/4), np.sqrt(p/4)], dtype=tc.complex128))\n",
    "dpc = tc.tensor([[[1, 0], [0, 1]], [[0, 1], [1, 0]], [[0, -1j], [1j, 0]], [[1, 0], [0, -1]]], dtype=tc.complex128)\n",
    "dpc = tc.einsum('ij, jfk->fki', error_diag, dpc)\n",
    "# Set the third edge as the inner edge, which was introduced by the error_diag\n",
    "    # and the first edge as the physics edge\n",
    "dpc[:, :, 0]"
   ],
   "metadata": {
    "collapsed": false,
    "pycharm": {
     "name": "#%%\n"
    }
   }
  },
  {
   "cell_type": "code",
   "execution_count": null,
   "outputs": [],
   "source": [
    "dpc_node = tn.Node(dpc, name='dpc')"
   ],
   "metadata": {
    "collapsed": false,
    "pycharm": {
     "name": "#%%\n"
    }
   }
  },
  {
   "cell_type": "code",
   "execution_count": null,
   "outputs": [],
   "source": [
    "dpc_node"
   ],
   "metadata": {
    "collapsed": false,
    "pycharm": {
     "name": "#%%\n"
    }
   }
  },
  {
   "cell_type": "code",
   "execution_count": null,
   "outputs": [],
   "source": [
    "edge1 = upper[0] ^ dpc_node[1]\n",
    "upper = tn.contract(edge1, name=upper.name)"
   ],
   "metadata": {
    "collapsed": false,
    "pycharm": {
     "name": "#%%\n"
    }
   }
  },
  {
   "cell_type": "code",
   "execution_count": null,
   "outputs": [],
   "source": [
    "dpc_node_dagger = tn.Node(dpc.T.conj(), name='dpc_dagger')\n",
    "# reform the tensor to the order that the third edge is the inner edge, and the first edge is the physics edge\n",
    "dpc_node_dagger.tensor = tc.einsum('ijk->jki', dpc_node_dagger.tensor)"
   ],
   "metadata": {
    "collapsed": false,
    "pycharm": {
     "name": "#%%\n"
    }
   }
  },
  {
   "cell_type": "code",
   "execution_count": null,
   "outputs": [],
   "source": [
    "dpc_node_dagger"
   ],
   "metadata": {
    "collapsed": false,
    "pycharm": {
     "name": "#%%\n"
    }
   }
  },
  {
   "cell_type": "code",
   "execution_count": null,
   "outputs": [],
   "source": [
    "edge2 = lower[0] ^ dpc_node_dagger[1]\n",
    "lower = tn.contract(edge2, name=lower.name)"
   ],
   "metadata": {
    "collapsed": false,
    "pycharm": {
     "name": "#%%\n"
    }
   }
  },
  {
   "cell_type": "code",
   "execution_count": null,
   "outputs": [],
   "source": [
    "dpc_node_dagger"
   ],
   "metadata": {
    "collapsed": false,
    "pycharm": {
     "name": "#%%\n"
    }
   }
  },
  {
   "cell_type": "code",
   "execution_count": null,
   "outputs": [],
   "source": [
    "edge3 = upper[1] ^ lower[1]"
   ],
   "metadata": {
    "collapsed": false,
    "pycharm": {
     "name": "#%%\n"
    }
   }
  },
  {
   "cell_type": "code",
   "execution_count": null,
   "outputs": [],
   "source": [
    "rho = tn.contract(edge3, name='rho')\n",
    "rho"
   ],
   "metadata": {
    "collapsed": false,
    "pycharm": {
     "name": "#%%\n"
    }
   }
  },
  {
   "cell_type": "code",
   "execution_count": null,
   "outputs": [],
   "source": [
    "psi = tn.Node(tc.tensor([1, 0], dtype=tc.complex128), name='psi', axis_names=['physics'])\n",
    "x = tc.tensor([[0, 1], [1, 0]], dtype=tc.complex128)\n",
    "x_node = tn.Node(x, name='op', axis_names=['inner', 'physics'])\n",
    "# x_node.get_axis_number('physics')"
   ],
   "metadata": {
    "collapsed": false,
    "pycharm": {
     "name": "#%%\n"
    }
   }
  },
  {
   "cell_type": "code",
   "execution_count": null,
   "outputs": [],
   "source": [
    "edge = psi['physics'] ^ x_node['inner']"
   ],
   "metadata": {
    "collapsed": false,
    "pycharm": {
     "name": "#%%\n"
    }
   }
  },
  {
   "cell_type": "code",
   "execution_count": null,
   "outputs": [],
   "source": [
    "result = tn.contract(edge, name=psi.name, axis_names=['physics'])\n",
    "result"
   ],
   "metadata": {
    "collapsed": false,
    "pycharm": {
     "name": "#%%\n"
    }
   }
  },
  {
   "cell_type": "markdown",
   "source": [
    "# Below is NEW 2023.04.14"
   ],
   "metadata": {
    "collapsed": false,
    "pycharm": {
     "name": "#%% md\n"
    }
   }
  },
  {
   "cell_type": "code",
   "execution_count": null,
   "outputs": [],
   "source": [
    "import re\n",
    "\n",
    "def sort_edges4svd(_node: tn.Node, _op_idx: list):\n",
    "    \"\"\"\n",
    "    Sort the bond and physics edges of a node after svd.\n",
    "\n",
    "    Args:\n",
    "        _node: the node to be sorted\n",
    "        _op_idx: the index of the operator in the node\n",
    "    Returns:\n",
    "        _left: the left edges of the node after svd\n",
    "        _right: the right edges of the node after svd\n",
    "    \"\"\"\n",
    "\n",
    "    def _cluster_name(_op_index: list, *args):\n",
    "        \"\"\"\n",
    "        Cluster the edges of a node according to the operator index.\n",
    "\n",
    "        Args:\n",
    "            _op_index: the index of the operator in the node\n",
    "            *args: the edges of the node\n",
    "        Returns:\n",
    "            _left: the names of svd left side;\n",
    "            _right: the names of svd right side.\n",
    "        \"\"\"\n",
    "        def leftORight(_op_index_: list, _bond_idx: str):\n",
    "            if int(_bond_idx.split('_')[1]) < _op_index[0]:\n",
    "                return 'left'\n",
    "            else:\n",
    "                return 'right'\n",
    "\n",
    "        _left_, _right_ = [], []\n",
    "        _bond_, _inner_, _physics_ = [], [], []\n",
    "        for _i in range(len(args)):\n",
    "            for _j in range(len(args[_i])):\n",
    "                if args[_i][_j].startswith('bond'):\n",
    "                    _bond_.append(args[_i][_j])\n",
    "                elif args[_i][_j].startswith('inner'):\n",
    "                    _inner_.append(args[_i][_j])\n",
    "                elif args[_i][_j].startswith('physics'):\n",
    "                    _physics_.append(args[_i][_j])\n",
    "\n",
    "        _bond_.sort(), _inner_.sort(), _physics_.sort()\n",
    "        if len(_bond_) == 0:\n",
    "            _bond_ = [[], []]\n",
    "        elif len(_bond_) == 1:\n",
    "            if leftORight(_op_index, _bond_[0]) == 'left':\n",
    "                _bond_ = [_bond_[0], []]\n",
    "            else:\n",
    "                _bond_ = [[], _bond_[0]]\n",
    "        if _inner_:\n",
    "            _left_ = [_bond_[0]] + [_physics_[0]] + [_inner_[0]]\n",
    "            _right_ = [_inner_[1]] + [_physics_[1]] + [_bond_[1]]\n",
    "        else:\n",
    "            _left_ = [_bond_[0]] + [_physics_[0]]\n",
    "            _right_ = [_physics_[1]] + [_bond_[1]]\n",
    "\n",
    "        # Remove empty list which is nested in list\n",
    "        _left_ = [_x for _x in _left_ if _x]\n",
    "        _right_ = [_x for _x in _right_ if _x]\n",
    "        print('_left_ = ', _left_)\n",
    "        print('_right_ = ', _right_)\n",
    "        return _left_, _right_\n",
    "\n",
    "    print(_node.axis_names)\n",
    "    _left, _right = _cluster_name(_op_idx, _node.axis_names)\n",
    "    _left = [_node[name] for name in _left]\n",
    "    _right = [_node[name] for name in _right]\n",
    "    return _left, _right\n",
    "\n",
    "\n",
    "def rename_edgeAxis(_node, _oqs: list[int]):\n",
    "    \"\"\"\n",
    "    Rename the edge axis of a node after a double-qubit gate was applied\n",
    "\n",
    "    Args:\n",
    "        _node: the node after the gate was applied;\n",
    "        _oqs: operating_qubits, the qubits that the gate was applied.\n",
    "    Returns:\n",
    "        _node: the node after the edge axis was renamed.\n",
    "    \"\"\"\n",
    "    def remove_numFromPhysics(_name: list or [str]) -> list[str]:\n",
    "        \"\"\"\n",
    "        Convert the index name of a tensor to 'physics' if it is be like 'physics_{}'.format(int).\n",
    "        :param _name: list of str\n",
    "        :return: list of str\n",
    "        \"\"\"\n",
    "        def has_s_int(string):\n",
    "            match = re.search(r's_\\d+', string)\n",
    "            return bool(match)\n",
    "\n",
    "        if isinstance(_name, list) is False:\n",
    "            raise TypeError('Input must be a list.')\n",
    "\n",
    "        for __i, __element in enumerate(_name):\n",
    "            if has_s_int(__element) is True:\n",
    "                _name[__i] = 'physics'\n",
    "        return _name\n",
    "\n",
    "    for _i in _oqs:\n",
    "        _node[_i].axis_names = remove_numFromPhysics(_node[_i].axis_names)\n",
    "        for _j in range(_node[_i].get_rank()):\n",
    "            if _node[_i][_j].is_dangling() is True:\n",
    "                _node[_i]['physics'].name = 'physics'\n",
    "    return _node"
   ],
   "metadata": {
    "collapsed": false,
    "pycharm": {
     "name": "#%%\n"
    }
   }
  },
  {
   "cell_type": "code",
   "execution_count": null,
   "outputs": [],
   "source": [
    "def get_spilt(_node, _oqs: list[int]):\n",
    "    \"\"\"\n",
    "    Split node while a double-qubit gate was applied\n",
    "\n",
    "    Args:\n",
    "        _node: the node after the gate was applied;\n",
    "        _oqs: operating_qubits, the qubits that the gate was applied.\n",
    "    Returns:\n",
    "        _left: the left node after split;\n",
    "        _right: the right node after split;\n",
    "        _: the middle node after split.\n",
    "    \"\"\"\n",
    "    _left_edges, _right_edges = sort_edges4svd(_node, _oqs)\n",
    "    _left, _right, _ = tn.split_node(_node,\n",
    "                                     left_edges=_left_edges,\n",
    "                                     right_edges=_right_edges,\n",
    "                                     left_name='qubit_' + str(_oqs[0]),\n",
    "                                     right_name='qubit_' + str(_oqs[1]),\n",
    "                                     edge_name='bond_{}_{}'.format(_oqs[0], _oqs[1]))\n",
    "    return _left, _right, _\n",
    "\n",
    "def add_gate_truncate(_qubits: list, _gate: TensorGate, operating_qubits: list):\n",
    "    if isinstance(_qubits, list) is False:\n",
    "        raise TypeError('Qubit must be a list.')\n",
    "    if isinstance(_gate, TensorGate) is False:\n",
    "        raise TypeError('Gate must be a TensorGate.')\n",
    "    if isinstance(operating_qubits, list) is False:\n",
    "        raise TypeError('Operating qubits must be a list.')\n",
    "    if len(operating_qubits) != 2:\n",
    "        raise NotImplementedError('Only two-qubit gates are supported currently.')\n",
    "\n",
    "    single = _gate.single\n",
    "    if single is False:\n",
    "        if is_nested(operating_qubits) is True:\n",
    "            raise TypeError('Series CNOT gates are not supported yet.')\n",
    "        else:\n",
    "            _edges = []\n",
    "            _gate = tn.Node(_gate.tensor, name=_gate.name, axis_names=_gate.axis_name)\n",
    "            for _i, _bit in enumerate(operating_qubits):\n",
    "                _edges.append(tn.connect(_qubits[_bit]['physics'], _gate['inner_' + str(_i)]))\n",
    "            # contract the connected edge and inherit the name of the pre-qubit\n",
    "            for _j, _edge in enumerate(_edges[:-1]):\n",
    "                _gate = tn.contract(_edges[_j], name=_gate.name)\n",
    "            ##\n",
    "            # Codes above are fitted for multi-qubits gate, like q>=3, but the following codes are only for two-qubits gate with the consideration of simple SVD truncation.\n",
    "            ##\n",
    "            # SVD truncation back to two qubits\n",
    "            _left, _right, _ = get_spilt(_gate, operating_qubits)\n",
    "    else:\n",
    "        _gate_list = [tn.Node(_gate.tensor, name=_gate.name) for _ in range(len(operating_qubits))]\n",
    "        for _i, _bit in enumerate(operating_qubits):\n",
    "            tn.connect(_qubits[_bit][0], _gate_list[_i][0])\n",
    "            # contract the connected edge and inherit the name of the pre-qubit\n",
    "            _qubits[_bit] = _qubits[_bit] @ _gate_list[_i]\n",
    "            _qubits[_bit].name = 'qubit_' + str(_bit)"
   ],
   "metadata": {
    "collapsed": false,
    "pycharm": {
     "name": "#%%\n"
    }
   }
  },
  {
   "cell_type": "code",
   "execution_count": null,
   "outputs": [],
   "source": [
    "qubits = create_init_mpo(4)\n",
    "Gates = TensorGate()\n",
    "cnot_node = [tn.Node(Gates.cnot().tensor, name=Gates.cnot().name, axis_names=Gates.cnot().axis_name) for _ in range(3)]\n",
    "edge_1 = tn.connect(qubits[0]['physics'], cnot_node[0]['inner_0'])\n",
    "edge_2 = tn.connect(qubits[1]['physics'], cnot_node[0]['inner_1'])\n",
    "edge_3 = tn.connect(qubits[2]['physics'], cnot_node[1]['inner_0'])\n",
    "edge_4 = tn.connect(qubits[3]['physics'], cnot_node[1]['inner_1'])\n",
    "cnot_node[0] = tn.contract(edge_1, name=cnot_node[0].name)\n",
    "cnot_node[0] = tn.contract(edge_2, name=cnot_node[0].name, axis_names=['physics_0', 'physics_1'])\n",
    "cnot_node[1] = tn.contract(edge_3, name=cnot_node[1].name)\n",
    "cnot_node[1] = tn.contract(edge_4, name=cnot_node[1].name, axis_names=['physics_0', 'physics_1'])"
   ],
   "metadata": {
    "collapsed": false,
    "pycharm": {
     "name": "#%%\n"
    }
   }
  },
  {
   "cell_type": "code",
   "execution_count": null,
   "outputs": [],
   "source": [
    "qubits[0], qubits[1], _ = get_spilt(cnot_node[0], [0, 1])\n",
    "qubits = rename_edgeAxis(qubits, [0, 1])"
   ],
   "metadata": {
    "collapsed": false,
    "pycharm": {
     "name": "#%%\n"
    }
   }
  },
  {
   "cell_type": "code",
   "execution_count": null,
   "outputs": [],
   "source": [
    "qubits[2], qubits[3], _ = get_spilt(cnot_node[1], [2, 3])\n",
    "qubits = rename_edgeAxis(qubits, [2, 3])"
   ],
   "metadata": {
    "collapsed": false,
    "pycharm": {
     "name": "#%%\n"
    }
   }
  },
  {
   "cell_type": "code",
   "execution_count": null,
   "outputs": [],
   "source": [
    "edge_5 = tn.connect(qubits[1]['physics'], cnot_node[2]['inner_0'])\n",
    "edge_6 = tn.connect(qubits[2]['physics'], cnot_node[2]['inner_1'])\n",
    "cnot_node[2] = tn.contract(edge_5, name=cnot_node[2].name)\n",
    "cnot_node[2] = tn.contract(edge_6, name=cnot_node[2].name)"
   ],
   "metadata": {
    "collapsed": false,
    "pycharm": {
     "name": "#%%\n"
    }
   }
  },
  {
   "cell_type": "code",
   "execution_count": null,
   "outputs": [],
   "source": [
    "axis_names = []\n",
    "for edge in [cnot_node[2][i] for i in range(cnot_node[2].get_rank())]:\n",
    "    axis_names.append(edge.name)\n",
    "cnot_node[2].axis_names = axis_names"
   ],
   "metadata": {
    "collapsed": false,
    "pycharm": {
     "name": "#%%\n"
    }
   }
  },
  {
   "cell_type": "code",
   "execution_count": null,
   "outputs": [],
   "source": [
    "def _EdgeName2AxisName(_nodes: tn.Node or list[tn.Node]):\n",
    "    for _node in _nodes:\n",
    "        _axis_names = []\n",
    "        for _edge in [_node[i] for i in range(_node.get_rank())]:\n",
    "            _axis_names.append(_edge.name)\n",
    "        _node.axis_names = _axis_names"
   ],
   "metadata": {
    "collapsed": false,
    "pycharm": {
     "name": "#%%\n"
    }
   }
  },
  {
   "cell_type": "code",
   "execution_count": null,
   "outputs": [],
   "source": [
    "qubits[1], qubits[2], _ = get_spilt(cnot_node[2], [1, 2])\n",
    "qubits = rename_edgeAxis(qubits, [1, 2])"
   ],
   "metadata": {
    "collapsed": false,
    "pycharm": {
     "name": "#%%\n"
    }
   }
  },
  {
   "cell_type": "code",
   "execution_count": null,
   "outputs": [],
   "source": [
    "qubits"
   ],
   "metadata": {
    "collapsed": false,
    "pycharm": {
     "name": "#%%\n"
    }
   }
  },
  {
   "cell_type": "code",
   "execution_count": null,
   "outputs": [],
   "source": [
    "def leftORight(_op_index_: list, _bond_idx: str):\n",
    "    if int(_bond_idx.split('_')[1]) < _op_index_[0]:\n",
    "        return 'left'\n",
    "    else:\n",
    "        return 'right'"
   ],
   "metadata": {
    "collapsed": false,
    "pycharm": {
     "name": "#%%\n"
    }
   }
  },
  {
   "cell_type": "code",
   "execution_count": null,
   "outputs": [],
   "source": [
    "def qr_cluster(_axis_names: list, _op_idx: list[int]):\n",
    "\n",
    "    if len(_op_idx) != 1:\n",
    "        raise ValueError('QR decomposition from left to right working with each qubit')\n",
    "\n",
    "    _left, _right = [], []\n",
    "    _physics_, _I_, _bond_ = [], [], []\n",
    "    for name in _axis_names:\n",
    "        if name.startswith('physics'):\n",
    "            _physics_.append(name)\n",
    "        elif name.startswith('I'):\n",
    "            _I_.append(name)\n",
    "        elif name.startswith('bond'):\n",
    "            _bond_.append(name)\n",
    "        else:\n",
    "            raise ValueError('Invalid edge name.')\n",
    "    _physics_.sort(), _I_.sort(), _bond_.sort()\n",
    "\n",
    "    if len(_bond_) == 1:\n",
    "        if _op_idx[0] != int(_bond_[0].split('_')[1]):\n",
    "            raise ValueError('Bond is not compatible with the operator.')\n",
    "        _bond_ = [_bond_[0], []]\n",
    "    elif len(_bond_) == 2:\n",
    "        if _op_idx[0] != int(_bond_[0].split('_')[1]) and _op_idx[0] != int(_bond_[0].split('_')[-1]):\n",
    "            raise ValueError('Bond is not compatible with the operator.')\n",
    "        if _op_idx[0] != int(_bond_[1].split('_')[1]) and _op_idx[0] != int(_bond_[1].split('_')[-1]):\n",
    "            raise ValueError('Bond is not compatible with the operator.')\n",
    "\n",
    "    if leftORight(_op_idx, _bond_[0]) == 'left':\n",
    "        _left = _physics_ + _I_ + [_bond_[0]]\n",
    "        _right = [_bond_[1]]\n",
    "    else:\n",
    "        _left = _physics_ + _I_ + [_bond_[1]]\n",
    "        _right = [_bond_[0]]\n",
    "\n",
    "    _left = [_x for _x in _left if _x]\n",
    "    _right = [_x for _x in _right if _x]\n",
    "    return _left, _right"
   ],
   "metadata": {
    "collapsed": false,
    "pycharm": {
     "name": "#%%\n"
    }
   }
  },
  {
   "cell_type": "code",
   "execution_count": null,
   "outputs": [],
   "source": [
    "s0 = ['physics', 'I_0', 'bond_0_1']\n",
    "s1 = ['physics', 'I_0', 'bond_1_2']\n",
    "s2 = ['physics', 'I_0', 'bond_10_11', 'bond_11_12']"
   ],
   "metadata": {
    "collapsed": false,
    "pycharm": {
     "name": "#%%\n"
    }
   }
  },
  {
   "cell_type": "code",
   "execution_count": null,
   "outputs": [],
   "source": [
    "left, right = qr_cluster(s1, [1])\n",
    "print(left)\n",
    "print(right)"
   ],
   "metadata": {
    "collapsed": false,
    "pycharm": {
     "name": "#%%\n"
    }
   }
  },
  {
   "cell_type": "markdown",
   "source": [
    "## QR decomposition"
   ],
   "metadata": {
    "collapsed": false,
    "pycharm": {
     "name": "#%% md\n"
    }
   }
  },
  {
   "cell_type": "code",
   "execution_count": 262,
   "outputs": [
    {
     "data": {
      "text/plain": "\nEdge('q1'[2] -> 'q2'[0] )"
     },
     "execution_count": 262,
     "metadata": {},
     "output_type": "execute_result"
    }
   ],
   "source": [
    "q1 = tn.Node(tc.rand([2, 2, 2]), name='q1', axis_names=['bond_0_1', 'physics', 'bond_1_2'])\n",
    "q2 = tn.Node(tc.rand([2, 2, 2]), name='q2', axis_names=['bond_1_2', 'physics', 'bond_2_3'])\n",
    "tn.connect(q1['bond_1_2'], q2['bond_1_2'])"
   ],
   "metadata": {
    "collapsed": false,
    "pycharm": {
     "name": "#%%\n"
    }
   }
  },
  {
   "cell_type": "code",
   "execution_count": 263,
   "outputs": [],
   "source": [
    "q1, op_q2 = tn.split_node_qr(q1, left_edges=[q1['bond_0_1'], q1['physics']], right_edges=[q1['bond_1_2']], left_name=q1.name, right_name='inter4q1', edge_name='qrbond_0_1')"
   ],
   "metadata": {
    "collapsed": false,
    "pycharm": {
     "name": "#%%\n"
    }
   }
  },
  {
   "cell_type": "code",
   "execution_count": 264,
   "outputs": [],
   "source": [
    "q2 = op_q2 @ q2\n",
    "q2.name = 'q2'"
   ],
   "metadata": {
    "collapsed": false,
    "pycharm": {
     "name": "#%%\n"
    }
   }
  },
  {
   "cell_type": "code",
   "execution_count": 265,
   "outputs": [],
   "source": [
    "axis_names = []\n",
    "for edge in [q2[i] for i in range(q2.get_rank())]:\n",
    "    if 'qr' in edge.name:\n",
    "        edge.name = edge.name.replace('qr', '')\n",
    "    axis_names.append(edge.name)\n",
    "q2.axis_names = axis_names"
   ],
   "metadata": {
    "collapsed": false,
    "pycharm": {
     "name": "#%%\n"
    }
   }
  },
  {
   "cell_type": "code",
   "execution_count": 266,
   "outputs": [
    {
     "data": {
      "text/plain": "['bond_0_1', 'physics', 'qrbond_0_1']"
     },
     "execution_count": 266,
     "metadata": {},
     "output_type": "execute_result"
    }
   ],
   "source": [
    "q1.axis_names"
   ],
   "metadata": {
    "collapsed": false,
    "pycharm": {
     "name": "#%%\n"
    }
   }
  },
  {
   "cell_type": "code",
   "execution_count": 267,
   "outputs": [
    {
     "data": {
      "text/plain": "['bond_0_1', 'physics', 'bond_2_3']"
     },
     "execution_count": 267,
     "metadata": {},
     "output_type": "execute_result"
    }
   ],
   "source": [
    "q2.axis_names"
   ],
   "metadata": {
    "collapsed": false,
    "pycharm": {
     "name": "#%%\n"
    }
   }
  },
  {
   "cell_type": "code",
   "execution_count": null,
   "outputs": [],
   "source": [],
   "metadata": {
    "collapsed": false,
    "pycharm": {
     "name": "#%%\n"
    }
   }
  }
 ],
 "metadata": {
  "kernelspec": {
   "display_name": "Python 3",
   "language": "python",
   "name": "python3"
  },
  "language_info": {
   "codemirror_mode": {
    "name": "ipython",
    "version": 2
   },
   "file_extension": ".py",
   "mimetype": "text/x-python",
   "name": "python",
   "nbconvert_exporter": "python",
   "pygments_lexer": "ipython2",
   "version": "2.7.6"
  }
 },
 "nbformat": 4,
 "nbformat_minor": 0
}